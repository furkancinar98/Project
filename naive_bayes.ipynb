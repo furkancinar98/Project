{
  "nbformat": 4,
  "nbformat_minor": 0,
  "metadata": {
    "colab": {
      "name": "naive_bayes.ipynb",
      "provenance": [],
      "collapsed_sections": [],
      "mount_file_id": "1Z0jg7IKzfGIDYaZ_jDBg4e5IVYjwgilv",
      "authorship_tag": "ABX9TyNs4o/FixlAx+Eyp0EniU7Z",
      "include_colab_link": true
    },
    "kernelspec": {
      "name": "python3",
      "display_name": "Python 3"
    }
  },
  "cells": [
    {
      "cell_type": "markdown",
      "metadata": {
        "id": "view-in-github",
        "colab_type": "text"
      },
      "source": [
        "<a href=\"https://colab.research.google.com/github/furkancinar98/Project/blob/master/naive_bayes.ipynb\" target=\"_parent\"><img src=\"https://colab.research.google.com/assets/colab-badge.svg\" alt=\"Open In Colab\"/></a>"
      ]
    },
    {
      "cell_type": "code",
      "metadata": {
        "id": "9JXTchrLC4Qv",
        "colab_type": "code",
        "colab": {}
      },
      "source": [
        "import numpy as np\n",
        "import pandas as pd\n",
        "from sklearn.naive_bayes import GaussianNB\n",
        "from sklearn.model_selection import train_test_split,cross_val_score\n",
        "from sklearn.metrics import accuracy_score\n",
        "import warnings\n",
        "warnings.filterwarnings('ignore')"
      ],
      "execution_count": 1,
      "outputs": []
    },
    {
      "cell_type": "code",
      "metadata": {
        "id": "5rsqA1zADHUy",
        "colab_type": "code",
        "colab": {}
      },
      "source": [
        "data=pd.read_csv(\"/content/segment.dat\", sep=\" \", header=None)\n",
        "\n",
        "X=data.iloc[:,:19]\n",
        "y=data.iloc[:,-1:]\n",
        "X_train,X_test,y_train,y_test=train_test_split(X, y, test_size=0.10, random_state=11)"
      ],
      "execution_count": 7,
      "outputs": []
    },
    {
      "cell_type": "code",
      "metadata": {
        "id": "I9z1UDE3JU2h",
        "colab_type": "code",
        "colab": {
          "base_uri": "https://localhost:8080/",
          "height": 34
        },
        "outputId": "54c28b5f-120a-4d62-f941-d7af5320ad9a"
      },
      "source": [
        "gnb_model=GaussianNB();\n",
        "gnb_model.fit(X_train,y_train)"
      ],
      "execution_count": 9,
      "outputs": [
        {
          "output_type": "execute_result",
          "data": {
            "text/plain": [
              "GaussianNB(priors=None, var_smoothing=1e-09)"
            ]
          },
          "metadata": {
            "tags": []
          },
          "execution_count": 9
        }
      ]
    },
    {
      "cell_type": "code",
      "metadata": {
        "id": "xqdxzj84JYsc",
        "colab_type": "code",
        "colab": {
          "base_uri": "https://localhost:8080/",
          "height": 34
        },
        "outputId": "bdf0dd41-181f-4772-c39f-099a1700f0a1"
      },
      "source": [
        "gnb_model.fit(X_train,y_train)"
      ],
      "execution_count": 10,
      "outputs": [
        {
          "output_type": "execute_result",
          "data": {
            "text/plain": [
              "GaussianNB(priors=None, var_smoothing=1e-09)"
            ]
          },
          "metadata": {
            "tags": []
          },
          "execution_count": 10
        }
      ]
    },
    {
      "cell_type": "code",
      "metadata": {
        "id": "NHAb5ZPtJaXQ",
        "colab_type": "code",
        "colab": {}
      },
      "source": [
        "gnb_model.predict(X_test)\n",
        "gnb_model.predict_proba(X_test)\n",
        "y_pred=gnb_model.predict(X_test)"
      ],
      "execution_count": 11,
      "outputs": []
    },
    {
      "cell_type": "code",
      "metadata": {
        "id": "Jui-_a98JbtQ",
        "colab_type": "code",
        "colab": {
          "base_uri": "https://localhost:8080/",
          "height": 34
        },
        "outputId": "d1f91911-1aac-473d-bd10-ccf10001eab1"
      },
      "source": [
        "accuracy_score(y_test,y_pred)\n",
        "print(cross_val_score(gnb_model,X_test, y_test, cv=12).mean())"
      ],
      "execution_count": 15,
      "outputs": [
        {
          "output_type": "stream",
          "text": [
            "0.8491228070175438\n"
          ],
          "name": "stdout"
        }
      ]
    }
  ]
}