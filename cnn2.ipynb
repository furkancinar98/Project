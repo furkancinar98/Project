{
  "nbformat": 4,
  "nbformat_minor": 0,
  "metadata": {
    "colab": {
      "name": "cnn2.ipynb",
      "provenance": [],
      "collapsed_sections": [],
      "authorship_tag": "ABX9TyPYU0Mj5BvO3Q3IgKk9EClA",
      "include_colab_link": true
    },
    "kernelspec": {
      "name": "python3",
      "display_name": "Python 3"
    }
  },
  "cells": [
    {
      "cell_type": "markdown",
      "metadata": {
        "id": "view-in-github",
        "colab_type": "text"
      },
      "source": [
        "<a href=\"https://colab.research.google.com/github/furkancinar98/Project/blob/master/cnn2.ipynb\" target=\"_parent\"><img src=\"https://colab.research.google.com/assets/colab-badge.svg\" alt=\"Open In Colab\"/></a>"
      ]
    },
    {
      "cell_type": "code",
      "metadata": {
        "id": "okokO4w9UDca",
        "colab_type": "code",
        "colab": {}
      },
      "source": [
        "import numpy as np\n",
        "import pandas as pd\n",
        "import keras\n",
        "from keras.datasets import mnist\n",
        "from keras.models import Sequential\n",
        "from keras.layers import Dense, Dropout, Flatten, BatchNormalization\n",
        "from keras.layers import Conv2D, MaxPooling2D\n",
        "from keras import backend as K\n",
        "import seaborn as sns\n",
        "import matplotlib.pyplot as plt\n",
        "from tensorflow.keras.utils import to_categorical\n",
        "from sklearn.model_selection import train_test_split,cross_val_score\n",
        "from sklearn.preprocessing import StandardScaler"
      ],
      "execution_count": null,
      "outputs": []
    },
    {
      "cell_type": "code",
      "metadata": {
        "id": "MpWwBQm4UHMV",
        "colab_type": "code",
        "colab": {}
      },
      "source": [
        "batch_size = 10             \n",
        "num_classes = 8              \n",
        "epochs = 12                   \n",
        "img_rows, img_cols = 19,1 \n",
        "data=pd.read_csv(\"/content/segment.dat\", sep=\" \", header=None)"
      ],
      "execution_count": null,
      "outputs": []
    },
    {
      "cell_type": "code",
      "metadata": {
        "id": "j2XpNjBGUOPE",
        "colab_type": "code",
        "colab": {
          "base_uri": "https://localhost:8080/",
          "height": 51
        },
        "outputId": "74eb2b3f-415d-476a-dfbb-0007f3acdd34"
      },
      "source": [
        "x=data.iloc[:,:-1].values\n",
        "y=data.iloc[:,-1:].values\n",
        "print(x.shape)\n",
        "print(y.shape)"
      ],
      "execution_count": null,
      "outputs": [
        {
          "output_type": "stream",
          "text": [
            "(2310, 19)\n",
            "(2310, 1)\n"
          ],
          "name": "stdout"
        }
      ]
    },
    {
      "cell_type": "code",
      "metadata": {
        "id": "yLRnR9pOUZXZ",
        "colab_type": "code",
        "colab": {
          "base_uri": "https://localhost:8080/",
          "height": 85
        },
        "outputId": "ae9c90ce-dcdc-4830-820a-a5132bc684a6"
      },
      "source": [
        "x_train,x_test,y_train,y_test=train_test_split(x, y, test_size=0.3,random_state=11)\n",
        "print(x_train.shape)\n",
        "print(x_test.shape)\n",
        "print(y_train.shape)\n",
        "print(y_test.shape)"
      ],
      "execution_count": null,
      "outputs": [
        {
          "output_type": "stream",
          "text": [
            "(1617, 19)\n",
            "(693, 19)\n",
            "(1617, 1)\n",
            "(693, 1)\n"
          ],
          "name": "stdout"
        }
      ]
    },
    {
      "cell_type": "code",
      "metadata": {
        "id": "AXpIG420WLhe",
        "colab_type": "code",
        "colab": {
          "base_uri": "https://localhost:8080/",
          "height": 51
        },
        "outputId": "7f8025c7-4345-4ee3-fcc6-298eac9e41bb"
      },
      "source": [
        "x_train = x_train.reshape(x_train.shape[0], img_rows, img_cols,1)\n",
        "x_test = x_test.reshape(x_test.shape[0], img_rows, img_cols, 1)\n",
        "print(x_train.shape)\n",
        "print(x_test.shape)"
      ],
      "execution_count": null,
      "outputs": [
        {
          "output_type": "stream",
          "text": [
            "(1617, 19, 1, 1)\n",
            "(693, 19, 1, 1)\n"
          ],
          "name": "stdout"
        }
      ]
    },
    {
      "cell_type": "code",
      "metadata": {
        "id": "Oq1_05dvWZab",
        "colab_type": "code",
        "colab": {}
      },
      "source": [
        "input_shape = (img_rows, img_cols,1)\n",
        "x_train /= 255\n",
        "x_test /= 255"
      ],
      "execution_count": null,
      "outputs": []
    },
    {
      "cell_type": "code",
      "metadata": {
        "id": "e3fPqnEtWsHM",
        "colab_type": "code",
        "colab": {}
      },
      "source": [
        "y_train = keras.utils.to_categorical(y_train, num_classes)\n",
        "y_test = keras.utils.to_categorical(y_test, num_classes)"
      ],
      "execution_count": null,
      "outputs": []
    },
    {
      "cell_type": "code",
      "metadata": {
        "id": "_hyw4z3tWveU",
        "colab_type": "code",
        "colab": {}
      },
      "source": [
        "model = Sequential()\n",
        "\n",
        "model.add(Conv2D(32, kernel_size=(1, 1),\n",
        "                 activation='relu',\n",
        "                 input_shape=input_shape))\n",
        "\n",
        "\n",
        "model.add(Conv2D(64, (1, 1), activation='relu'))\n",
        "\n",
        "model.add(MaxPooling2D(pool_size=(1, 1)))\n",
        "\n",
        "model.add(Flatten())\n",
        "\n",
        "model.add(Dense(128, activation='relu'))\n",
        "\n",
        "model.add(Dense(num_classes, activation='softmax'))\n",
        "\n",
        "model.compile(loss=keras.losses.categorical_crossentropy,\n",
        "              optimizer=keras.optimizers.Adadelta(),\n",
        "              metrics=['accuracy'])"
      ],
      "execution_count": null,
      "outputs": []
    },
    {
      "cell_type": "code",
      "metadata": {
        "id": "kwFgDeXIZ3pC",
        "colab_type": "code",
        "colab": {
          "base_uri": "https://localhost:8080/",
          "height": 462
        },
        "outputId": "2b46228c-de3c-4ec2-c8c2-fac20010d238"
      },
      "source": [
        "history = model.fit(x_train, y_train,\n",
        "          batch_size=batch_size,\n",
        "          epochs=epochs,\n",
        "          verbose=1,\n",
        "          validation_data=(x_test, y_test))"
      ],
      "execution_count": null,
      "outputs": [
        {
          "output_type": "stream",
          "text": [
            "Train on 1617 samples, validate on 693 samples\n",
            "Epoch 1/12\n",
            "1617/1617 [==============================] - 1s 544us/step - loss: 1.1596 - accuracy: 0.5652 - val_loss: 0.6593 - val_accuracy: 0.7215\n",
            "Epoch 2/12\n",
            "1617/1617 [==============================] - 1s 494us/step - loss: 0.5787 - accuracy: 0.7706 - val_loss: 0.3896 - val_accuracy: 0.8817\n",
            "Epoch 3/12\n",
            "1617/1617 [==============================] - 1s 482us/step - loss: 0.3936 - accuracy: 0.8547 - val_loss: 0.6019 - val_accuracy: 0.7085\n",
            "Epoch 4/12\n",
            "1617/1617 [==============================] - 1s 466us/step - loss: 0.3035 - accuracy: 0.8800 - val_loss: 0.2222 - val_accuracy: 0.9278\n",
            "Epoch 5/12\n",
            "1617/1617 [==============================] - 1s 471us/step - loss: 0.2556 - accuracy: 0.9017 - val_loss: 0.2045 - val_accuracy: 0.9293\n",
            "Epoch 6/12\n",
            "1617/1617 [==============================] - 1s 464us/step - loss: 0.2288 - accuracy: 0.9097 - val_loss: 0.1953 - val_accuracy: 0.9408\n",
            "Epoch 7/12\n",
            "1617/1617 [==============================] - 1s 472us/step - loss: 0.2117 - accuracy: 0.9153 - val_loss: 0.2419 - val_accuracy: 0.8932\n",
            "Epoch 8/12\n",
            "1617/1617 [==============================] - 1s 440us/step - loss: 0.1939 - accuracy: 0.9202 - val_loss: 0.1471 - val_accuracy: 0.9394\n",
            "Epoch 9/12\n",
            "1617/1617 [==============================] - 1s 462us/step - loss: 0.1775 - accuracy: 0.9338 - val_loss: 0.1805 - val_accuracy: 0.9380\n",
            "Epoch 10/12\n",
            "1617/1617 [==============================] - 1s 458us/step - loss: 0.1737 - accuracy: 0.9289 - val_loss: 0.1309 - val_accuracy: 0.9509\n",
            "Epoch 11/12\n",
            "1617/1617 [==============================] - 1s 452us/step - loss: 0.1677 - accuracy: 0.9301 - val_loss: 0.1897 - val_accuracy: 0.9336\n",
            "Epoch 12/12\n",
            "1617/1617 [==============================] - 1s 469us/step - loss: 0.1608 - accuracy: 0.9400 - val_loss: 0.1262 - val_accuracy: 0.9538\n"
          ],
          "name": "stdout"
        }
      ]
    },
    {
      "cell_type": "code",
      "metadata": {
        "id": "LQZVN_bCaxhE",
        "colab_type": "code",
        "colab": {
          "base_uri": "https://localhost:8080/",
          "height": 34
        },
        "outputId": "e24db720-4fb6-4917-9ccf-306ac4378b61"
      },
      "source": [
        "score = model.evaluate(x_test, y_test, verbose=0)\n",
        "\n",
        "print('Test accuracy:', score[1])"
      ],
      "execution_count": null,
      "outputs": [
        {
          "output_type": "stream",
          "text": [
            "Test accuracy: 0.9379509091377258\n"
          ],
          "name": "stdout"
        }
      ]
    }
  ]
}